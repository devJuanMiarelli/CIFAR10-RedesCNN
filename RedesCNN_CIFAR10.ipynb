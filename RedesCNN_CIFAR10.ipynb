{
  "nbformat": 4,
  "nbformat_minor": 0,
  "metadata": {
    "colab": {
      "provenance": [],
      "include_colab_link": true
    },
    "kernelspec": {
      "name": "python3",
      "display_name": "Python 3"
    },
    "language_info": {
      "name": "python"
    }
  },
  "cells": [
    {
      "cell_type": "markdown",
      "metadata": {
        "id": "view-in-github",
        "colab_type": "text"
      },
      "source": [
        "<a href=\"https://colab.research.google.com/github/devJuanMiarelli/CIFAR10-RedesCNN/blob/main/RedesCNN_CIFAR10.ipynb\" target=\"_parent\"><img src=\"https://colab.research.google.com/assets/colab-badge.svg\" alt=\"Open In Colab\"/></a>"
      ]
    },
    {
      "cell_type": "code",
      "execution_count": 1,
      "metadata": {
        "colab": {
          "base_uri": "https://localhost:8080/"
        },
        "id": "cL8xE4PTrC0t",
        "outputId": "bf358eb9-4f9d-49ea-e33e-551af8c29bee"
      },
      "outputs": [
        {
          "output_type": "stream",
          "name": "stdout",
          "text": [
            "Downloading data from https://www.cs.toronto.edu/~kriz/cifar-10-python.tar.gz\n",
            "170498071/170498071 [==============================] - 3s 0us/step\n",
            "Epoch 1/10\n",
            "1563/1563 [==============================] - 85s 53ms/step - loss: 1.4948 - accuracy: 0.4553 - val_loss: 1.2290 - val_accuracy: 0.5655\n",
            "Epoch 2/10\n",
            "1563/1563 [==============================] - 81s 52ms/step - loss: 1.1090 - accuracy: 0.6063 - val_loss: 1.0505 - val_accuracy: 0.6284\n",
            "Epoch 3/10\n",
            "1563/1563 [==============================] - 77s 49ms/step - loss: 0.9477 - accuracy: 0.6678 - val_loss: 1.0233 - val_accuracy: 0.6490\n",
            "Epoch 4/10\n",
            "1563/1563 [==============================] - 80s 51ms/step - loss: 0.8365 - accuracy: 0.7084 - val_loss: 0.8974 - val_accuracy: 0.6873\n",
            "Epoch 5/10\n",
            "1563/1563 [==============================] - 81s 52ms/step - loss: 0.7447 - accuracy: 0.7387 - val_loss: 0.8510 - val_accuracy: 0.7060\n",
            "Epoch 6/10\n",
            "1563/1563 [==============================] - 82s 52ms/step - loss: 0.6728 - accuracy: 0.7626 - val_loss: 0.8754 - val_accuracy: 0.7064\n",
            "Epoch 7/10\n",
            "1563/1563 [==============================] - 82s 52ms/step - loss: 0.6029 - accuracy: 0.7879 - val_loss: 0.8358 - val_accuracy: 0.7192\n",
            "Epoch 8/10\n",
            "1563/1563 [==============================] - 80s 51ms/step - loss: 0.5388 - accuracy: 0.8097 - val_loss: 0.8723 - val_accuracy: 0.7124\n",
            "Epoch 9/10\n",
            "1563/1563 [==============================] - 79s 51ms/step - loss: 0.4781 - accuracy: 0.8292 - val_loss: 0.8938 - val_accuracy: 0.7190\n",
            "Epoch 10/10\n",
            "1563/1563 [==============================] - 82s 52ms/step - loss: 0.4203 - accuracy: 0.8516 - val_loss: 0.9212 - val_accuracy: 0.7184\n",
            "313/313 [==============================] - 4s 13ms/step - loss: 0.9212 - accuracy: 0.7184\n",
            "Test accuracy: 0.7184000015258789\n"
          ]
        }
      ],
      "source": [
        "import tensorflow as tf\n",
        "from tensorflow.keras.datasets import cifar10\n",
        "from tensorflow.keras.preprocessing.image import ImageDataGenerator\n",
        "\n",
        "# Carregar os dados CIFAR-10\n",
        "(train_images, train_labels), (test_images, test_labels) = cifar10.load_data()\n",
        "\n",
        "# Pré-processamento das imagens\n",
        "train_images = train_images / 255.0\n",
        "test_images = test_images / 255.0\n",
        "\n",
        "# Definir o modelo CNN\n",
        "model = tf.keras.models.Sequential([\n",
        "    tf.keras.layers.Conv2D(32, (3, 3), activation='relu', input_shape=(32, 32, 3)),\n",
        "    tf.keras.layers.MaxPooling2D((2, 2)),\n",
        "    tf.keras.layers.Conv2D(64, (3, 3), activation='relu'),\n",
        "    tf.keras.layers.MaxPooling2D((2, 2)),\n",
        "    tf.keras.layers.Conv2D(128, (3, 3), activation='relu'),\n",
        "    tf.keras.layers.MaxPooling2D((2, 2)),\n",
        "    tf.keras.layers.Flatten(),\n",
        "    tf.keras.layers.Dense(512, activation='relu'),\n",
        "    tf.keras.layers.Dense(10, activation='softmax')\n",
        "])\n",
        "\n",
        "# Compilar o modelo\n",
        "model.compile(optimizer='adam',\n",
        "              loss='sparse_categorical_crossentropy',\n",
        "              metrics=['accuracy'])\n",
        "\n",
        "# Treinar o modelo\n",
        "history = model.fit(train_images, train_labels, epochs=10, validation_data=(test_images, test_labels))\n",
        "\n",
        "# Avaliar o modelo\n",
        "test_loss, test_acc = model.evaluate(test_images, test_labels)\n",
        "\n",
        "print('Test accuracy:', test_acc)\n"
      ]
    },
    {
      "cell_type": "code",
      "source": [
        "model.save('modelo_cifar10.h5')"
      ],
      "metadata": {
        "colab": {
          "base_uri": "https://localhost:8080/"
        },
        "id": "zPiESjh6Ug-9",
        "outputId": "52543be8-cbe1-4186-ca39-c337cb97a25c"
      },
      "execution_count": 2,
      "outputs": [
        {
          "output_type": "stream",
          "name": "stderr",
          "text": [
            "/usr/local/lib/python3.10/dist-packages/keras/src/engine/training.py:3103: UserWarning: You are saving your model as an HDF5 file via `model.save()`. This file format is considered legacy. We recommend using instead the native Keras format, e.g. `model.save('my_model.keras')`.\n",
            "  saving_api.save_model(\n"
          ]
        }
      ]
    },
    {
      "cell_type": "code",
      "source": [
        "import tensorflow as tf\n",
        "import numpy as np\n",
        "from tensorflow.keras.preprocessing import image\n",
        "\n",
        "# Carregar o modelo treinado\n",
        "model = tf.keras.models.load_model('modelo_cifar10.h5')\n",
        "\n",
        "paths = [\n",
        "  '/content/cavalo1.jpg',\n",
        "  '/content/cavalo2.jpg',\n",
        "  '/content/automovel1.jpg',\n",
        "  '/content/automovel2.jpg',\n",
        "  '/content/aviao1.jpg',\n",
        "  '/content/aviao2.jpg',\n",
        "  '/content/cachorro1.jpg',\n",
        "  '/content/cachorro2.jpg',\n",
        "  '/content/caminhao1.jpg',\n",
        "  '/content/caminhao2.jpg',\n",
        "  '/content/cervo1.jpg',\n",
        "  '/content/cervo2.jpg',\n",
        "  '/content/gato1.jpg',\n",
        "  '/content/gato2.jpg',\n",
        "  '/content/navio1.jpg',\n",
        "  '/content/navio2.jpg',\n",
        "  '/content/passaro1.jpg',\n",
        "  '/content/passaro2.jpg',\n",
        "  '/content/sapo1.webp',\n",
        "  '/content/sapo2.jpg'\n",
        "]\n",
        "\n",
        "\n",
        "def processImageWithIA(imgPath):\n",
        "\n",
        "  # Carregar uma nova imagem\n",
        "  image_path = imgPath  # Substitua pelo caminho da sua imagem\n",
        "  img = image.load_img(image_path, target_size=(32, 32))\n",
        "  img_array = image.img_to_array(img)\n",
        "  img_array = np.expand_dims(img_array, axis=0)\n",
        "  img_array /= 255.0  # Normalização\n",
        "\n",
        "  # Fazer a previsão\n",
        "  prediction = model.predict(img_array)\n",
        "  predicted_class = np.argmax(prediction)\n",
        "\n",
        "  # Mapear o número da classe para o nome da classe\n",
        "  class_names = ['avião', 'automóvel', 'pássaro', 'gato', 'cervo', 'cachorro', 'sapo', 'cavalo', 'navio', 'caminhão']\n",
        "  predicted_label = class_names[predicted_class]\n",
        "\n",
        "  print('Predicted class:', predicted_label)\n",
        "\n",
        "\n",
        "for img in paths:\n",
        "  processImageWithIA(img)\n"
      ],
      "metadata": {
        "colab": {
          "base_uri": "https://localhost:8080/"
        },
        "id": "NlMJgunnsVeR",
        "outputId": "436e525e-dfd2-4b98-8e73-ce5469275bf3"
      },
      "execution_count": 12,
      "outputs": [
        {
          "output_type": "stream",
          "name": "stdout",
          "text": [
            "1/1 [==============================] - 0s 132ms/step\n",
            "Predicted class: cavalo\n",
            "1/1 [==============================] - 0s 35ms/step\n",
            "Predicted class: cavalo\n",
            "1/1 [==============================] - 0s 39ms/step\n",
            "Predicted class: caminhão\n",
            "1/1 [==============================] - 0s 45ms/step\n",
            "Predicted class: cavalo\n",
            "1/1 [==============================] - 0s 38ms/step\n",
            "Predicted class: cervo\n",
            "1/1 [==============================] - 0s 40ms/step\n",
            "Predicted class: avião\n",
            "1/1 [==============================] - 0s 46ms/step\n",
            "Predicted class: gato\n",
            "1/1 [==============================] - 0s 38ms/step\n",
            "Predicted class: cachorro\n",
            "1/1 [==============================] - 0s 40ms/step\n",
            "Predicted class: caminhão\n",
            "1/1 [==============================] - 0s 34ms/step\n",
            "Predicted class: caminhão\n",
            "1/1 [==============================] - 0s 45ms/step\n",
            "Predicted class: cervo\n",
            "1/1 [==============================] - 0s 35ms/step\n",
            "Predicted class: cervo\n",
            "1/1 [==============================] - 0s 42ms/step\n",
            "Predicted class: gato\n",
            "1/1 [==============================] - 0s 44ms/step\n",
            "Predicted class: gato\n",
            "1/1 [==============================] - 0s 36ms/step\n",
            "Predicted class: navio\n",
            "1/1 [==============================] - 0s 23ms/step\n",
            "Predicted class: navio\n",
            "1/1 [==============================] - 0s 23ms/step\n",
            "Predicted class: sapo\n",
            "1/1 [==============================] - 0s 24ms/step\n",
            "Predicted class: pássaro\n",
            "1/1 [==============================] - 0s 23ms/step\n",
            "Predicted class: sapo\n",
            "1/1 [==============================] - 0s 23ms/step\n",
            "Predicted class: sapo\n"
          ]
        }
      ]
    }
  ]
}